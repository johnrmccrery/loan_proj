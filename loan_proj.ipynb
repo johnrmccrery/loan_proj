{
 "cells": [
  {
   "cell_type": "code",
   "execution_count": 1,
   "metadata": {},
   "outputs": [
    {
     "data": {
      "text/plain": [
       "['lending-club-loan-data.zip',\n",
       " 'loan.csv',\n",
       " 'LCDataDictionary.xlsx',\n",
       " 'database.sqlite']"
      ]
     },
     "execution_count": 1,
     "metadata": {},
     "output_type": "execute_result"
    }
   ],
   "source": [
    "import os, glob\n",
    "import datetime as dt\n",
    "import sqlite3\n",
    "import pandas as pd\n",
    "import numpy as np\n",
    "os.chdir('/mnt/499f5b4c-132a-4775-a414-ce6eba504896/lending/')\n",
    "files = glob.glob('*')\n",
    "files"
   ]
  },
  {
   "cell_type": "code",
   "execution_count": 2,
   "metadata": {},
   "outputs": [
    {
     "data": {
      "text/plain": [
       "[('loan',)]"
      ]
     },
     "execution_count": 2,
     "metadata": {},
     "output_type": "execute_result"
    }
   ],
   "source": [
    "conn = sqlite3.connect('database.sqlite')\n",
    "c = conn.cursor()\n",
    "c.execute(\"select name from sqlite_master where type = 'table'\")\n",
    "c.fetchall()"
   ]
  },
  {
   "cell_type": "code",
   "execution_count": 3,
   "metadata": {},
   "outputs": [],
   "source": [
    "data = pd.read_sql_query(\"select * from loan\", conn)"
   ]
  },
  {
   "cell_type": "code",
   "execution_count": 4,
   "metadata": {},
   "outputs": [
    {
     "data": {
      "text/plain": [
       "datetime.date(2016, 1, 16)"
      ]
     },
     "execution_count": 4,
     "metadata": {},
     "output_type": "execute_result"
    }
   ],
   "source": [
    "data = data[(data['issue_d'].notnull()) & (data['loan_status'].notnull())]\n",
    "data = data[(data['last_pymnt_d'].notnull() | (data['loan_status']!='Fully Paid'))]\n",
    "\n",
    "### clean date fields\n",
    "from dateutil.parser import parse\n",
    "def dateParser(x):\n",
    "    try:\n",
    "        return parse(x).date()\n",
    "    except:\n",
    "        return x\n",
    "data['issue_d'] = data['issue_d'].apply(lambda x: dateParser(x))\n",
    "### assessing what \"present\" is in this dataset.  I'll assume Jan 1 2016 is the current date\n",
    "data['last_pymnt_d'] = data['last_pymnt_d'].apply(lambda x: dateParser(x))\n",
    "data['last_pymnt_d'].dropna().max()"
   ]
  },
  {
   "cell_type": "code",
   "execution_count": 5,
   "metadata": {},
   "outputs": [],
   "source": [
    "### Used the net annualized return formula found on Lending Club's website\n",
    "### https://www.lendingclub.com/public/lendersPerformanceHelpPop.action\n",
    "### I threw out the 1% service charge for yield calculations \n",
    "\n",
    "netAnnualizedReturn = []\n",
    "\n",
    "today = dt.date(2016, 1, 1)\n",
    "\n",
    "# calculate net annualized return for each loan (row-wise)\n",
    "for index, row in data.iterrows():\n",
    "    inv_return = row['total_rec_int'] + row['total_rec_late_fee']\n",
    "    loss = 0\n",
    "\n",
    "    # specify loan period based on the current loan status\n",
    "    if row['loan_status'] == 'Fully Paid':\n",
    "        duration = (row['last_pymnt_d'] - row['issue_d']).days/30\n",
    "    elif any(check in row['loan_status'].lower() for check in ['charged off', 'default']):\n",
    "        loss = row['funded_amnt_inv'] - row['total_rec_prncp'] - row['recoveries'] + row['collection_recovery_fee']\n",
    "        try:\n",
    "            active = (row['last_pymnt_d'] - row['issue_d']).days/30\n",
    "            toDate = (today-row['issue_d']).days/30 -1\n",
    "            # charge off occurs within 6 months   \n",
    "            duration = min(active+6, toDate)\n",
    "        except:\n",
    "            # if there is no last_pymnt_d, charge off will occur at 6 months from origination\n",
    "            duration = 6\n",
    "    else:\n",
    "        duration = (today-row['issue_d']).days/30 - 1\n",
    "\n",
    "    duration = int(duration)\n",
    "    # if the loan is paid off in a month\n",
    "    if duration == 0:\n",
    "        t = 12\n",
    "    else:\n",
    "        t=12/duration\n",
    "\n",
    "    #calculate compounded return\n",
    "    compoundedReturn = (1 + (inv_return-loss) / row['funded_amnt'])**t - 1 \n",
    "    netAnnualizedReturn.append(compoundedReturn)"
   ]
  },
  {
   "cell_type": "code",
   "execution_count": 6,
   "metadata": {},
   "outputs": [],
   "source": [
    "data['netAnnualizedReturn'] =  netAnnualizedReturn\n",
    "data = data[data['netAnnualizedReturn'].notnull()]"
   ]
  },
  {
   "cell_type": "code",
   "execution_count": 7,
   "metadata": {},
   "outputs": [
    {
     "data": {
      "text/plain": [
       "<matplotlib.figure.Figure at 0x7f9c134d0a20>"
      ]
     },
     "metadata": {},
     "output_type": "display_data"
    }
   ],
   "source": [
    "import matplotlib.pyplot as plt\n",
    "plt.hist(data['netAnnualizedReturn'],color='salmon', bins=24, range=(-1,1), label='simple_nar')\n",
    "plt.xlabel('return')\n",
    "plt.ylabel('frequency')\n",
    "plt.grid()\n",
    "plt.show()"
   ]
  },
  {
   "cell_type": "code",
   "execution_count": 8,
   "metadata": {},
   "outputs": [
    {
     "data": {
      "image/png": "[encoded data removed]",
      "text/plain": [
       "<matplotlib.figure.Figure at 0x7f9c100b9320>"
      ]
     },
     "metadata": {},
     "output_type": "display_data"
    }
   ],
   "source": [
    "grade_group = data.groupby('grade')\n",
    "grade_group.mean()['netAnnualizedReturn'].plot(kind='bar')\n",
    "plt.title('Return by Grade')\n",
    "plt.show()"
   ]
  },
  {
   "cell_type": "code",
   "execution_count": 9,
   "metadata": {},
   "outputs": [
    {
     "data": {
      "image/png": "[encoded data removed]",
      "text/plain": [
       "<matplotlib.figure.Figure at 0x7f9c0feaa048>"
      ]
     },
     "metadata": {},
     "output_type": "display_data"
    }
   ],
   "source": [
    "grade_group = data.groupby('sub_grade')\n",
    "grade_group.mean()['netAnnualizedReturn'].plot(kind='bar')\n",
    "plt.title('Return by Sub Grade')\n",
    "plt.show()"
   ]
  },
  {
   "cell_type": "code",
   "execution_count": 10,
   "metadata": {},
   "outputs": [
    {
     "data": {
      "text/plain": [
       "<seaborn.axisgrid.FacetGrid at 0x7f9bf00e7c88>"
      ]
     },
     "execution_count": 10,
     "metadata": {},
     "output_type": "execute_result"
    },
    {
     "data": {
      "image/png": "[encoded data removed]",
      "text/plain": [
       "<matplotlib.figure.Figure at 0x7f9bdd205c18>"
      ]
     },
     "metadata": {},
     "output_type": "display_data"
    }
   ],
   "source": [
    "import seaborn as sns\n",
    "###  Here we see the risk vs reward relationship found in loan grade.  The higher the letter grade, the higher the return \n",
    "### tends to be on loans that get paid off, but the average losses get greater as well if the loan gets charged off\n",
    "sns.set(style=\"whitegrid\")\n",
    "\n",
    "g = sns.factorplot(x=\"grade\", y=\"netAnnualizedReturn\", hue=\"loan_status\", data=data,\n",
    "                   size=6, kind=\"bar\", palette=\"muted\")\n",
    "\n",
    "g.despine(left=True)\n",
    "g.set_ylabels(\"return\")"
   ]
  },
  {
   "cell_type": "code",
   "execution_count": 11,
   "metadata": {},
   "outputs": [
    {
     "data": {
      "text/plain": [
       "<seaborn.axisgrid.FacetGrid at 0x7f9bf00ebdd8>"
      ]
     },
     "execution_count": 11,
     "metadata": {},
     "output_type": "execute_result"
    },
    {
     "data": {
      "image/png": "[encoded data removed]",
      "text/plain": [
       "<matplotlib.figure.Figure at 0x7f9bf00eb668>"
      ]
     },
     "metadata": {},
     "output_type": "display_data"
    }
   ],
   "source": [
    "### interestingly, there is a relationship between month of issuance and return.  Returns increase from December\n",
    "### throughout the years and peak in October.  This relationship becomes less reliable in G grade loans\n",
    "data['issue_m'] = data['issue_d'].apply(lambda x: int(x.month))\n",
    "sns.set(style=\"whitegrid\")\n",
    "\n",
    "g = sns.factorplot(x=\"grade\", y=\"netAnnualizedReturn\", hue=\"issue_m\", data=data,\n",
    "                   size=6, kind=\"bar\", palette=\"muted\")\n",
    "\n",
    "g.despine(left=True)\n",
    "g.set_ylabels(\"return\")"
   ]
  },
  {
   "cell_type": "code",
   "execution_count": 12,
   "metadata": {},
   "outputs": [
    {
     "data": {
      "text/plain": [
       "issue_m\n",
       "1     0.080877\n",
       "2     0.077928\n",
       "3     0.081525\n",
       "4     0.091250\n",
       "5     0.092930\n",
       "6     0.101451\n",
       "7     0.113012\n",
       "8     0.120620\n",
       "9     0.140521\n",
       "10    0.194300\n",
       "11    0.129394\n",
       "12    0.067444\n",
       "Name: netAnnualizedReturn, dtype: float64"
      ]
     },
     "execution_count": 12,
     "metadata": {},
     "output_type": "execute_result"
    }
   ],
   "source": [
    "data.groupby(['issue_m']).mean()['netAnnualizedReturn']"
   ]
  },
  {
   "cell_type": "code",
   "execution_count": 13,
   "metadata": {},
   "outputs": [
    {
     "data": {
      "image/png": "[encoded data removed]",
      "text/plain": [
       "<matplotlib.figure.Figure at 0x7f9bd9c15c50>"
      ]
     },
     "metadata": {},
     "output_type": "display_data"
    }
   ],
   "source": [
    "### Here we see the time it takes to recoup losses after a charge off. Returns of paid loans are consistent through time, \n",
    "### but the distribution of losses spread out closer to 0 from 100% the more time has passed since default\n",
    "data['issue_y'] = data['issue_d'].apply(lambda x: str(x.year))\n",
    "sns.set(style=\"whitegrid\", palette=\"pastel\", color_codes=True)\n",
    "\n",
    "sns.violinplot(x=\"issue_y\", y=\"netAnnualizedReturn\", hue=\"loan_status\", data=data[data.loan_status.isin(\n",
    "    ['Charged Off', 'Fully Paid'])], split=True,\n",
    "               inner=\"quart\", palette={\"Fully Paid\": \"g\", \"Charged Off\": \"r\"})\n",
    "sns.despine(left=True)"
   ]
  },
  {
   "cell_type": "code",
   "execution_count": 14,
   "metadata": {
    "scrolled": false
   },
   "outputs": [
    {
     "data": {
      "text/plain": [
       "loan_status                                          issue_y\n",
       "Charged Off                                          2007       0.169573\n",
       "                                                     2008       0.093623\n",
       "                                                     2009      -0.306855\n",
       "                                                     2010      -0.315969\n",
       "                                                     2011      -0.340724\n",
       "                                                     2012      -0.338431\n",
       "                                                     2013      -0.397883\n",
       "                                                     2014      -0.632964\n",
       "                                                     2015      -0.936196\n",
       "Current                                              2010       0.066495\n",
       "                                                     2011       0.081871\n",
       "                                                     2012       0.115066\n",
       "                                                     2013       0.100807\n",
       "                                                     2014       0.122627\n",
       "                                                     2015       0.189944\n",
       "Default                                              2010       0.038087\n",
       "                                                     2011       0.041707\n",
       "                                                     2012       0.011617\n",
       "                                                     2013      -0.113146\n",
       "                                                     2014      -0.499449\n",
       "                                                     2015      -0.931096\n",
       "Does not meet the credit policy. Status:Charged Off  2007       0.114839\n",
       "                                                     2008       0.007044\n",
       "                                                     2009      -0.348104\n",
       "                                                     2010      -0.378987\n",
       "Does not meet the credit policy. Status:Fully Paid   2007       0.020785\n",
       "                                                     2008       0.024081\n",
       "                                                     2009       0.027577\n",
       "                                                     2010       0.038119\n",
       "Fully Paid                                           2007       0.061104\n",
       "                                                     2008       0.064802\n",
       "                                                     2009       0.072769\n",
       "                                                     2010       0.070147\n",
       "                                                     2011       0.074451\n",
       "                                                     2012       0.084604\n",
       "                                                     2013       0.112814\n",
       "                                                     2014       0.124303\n",
       "                                                     2015       0.139722\n",
       "In Grace Period                                      2011       0.078523\n",
       "                                                     2012       0.123768\n",
       "                                                     2013       0.112264\n",
       "                                                     2014       0.138251\n",
       "                                                     2015       0.174340\n",
       "Issued                                               2015       0.000000\n",
       "Late (16-30 days)                                    2010       0.066296\n",
       "                                                     2011       0.089396\n",
       "                                                     2012       0.119340\n",
       "                                                     2013       0.112874\n",
       "                                                     2014       0.137400\n",
       "                                                     2015       0.174908\n",
       "Late (31-120 days)                                   2010       0.070971\n",
       "                                                     2011       0.089250\n",
       "                                                     2012       0.104850\n",
       "                                                     2013       0.110709\n",
       "                                                     2014       0.127840\n",
       "                                                     2015       0.134590\n",
       "Name: netAnnualizedReturn, dtype: float64"
      ]
     },
     "execution_count": 14,
     "metadata": {},
     "output_type": "execute_result"
    }
   ],
   "source": [
    "data.groupby(['loan_status', 'issue_y']).mean()['netAnnualizedReturn']"
   ]
  },
  {
   "cell_type": "code",
   "execution_count": 15,
   "metadata": {},
   "outputs": [],
   "source": [
    "today = dt.date(2016,1,1)\n",
    "def loanTimer(x):\n",
    "    try:\n",
    "        if (today - x).days >= (36*30):\n",
    "            return 1\n",
    "        else:\n",
    "            return 0\n",
    "    except:\n",
    "        return x\n",
    "\n",
    "data['over36Months'] = data['issue_d'].apply(lambda x: loanTimer(x))\n",
    "data['over36Months'].describe()\n",
    "### remove loans that have not aged out at least 36 months\n",
    "data = data[data.over36Months == 1].reset_index(drop  = True)"
   ]
  },
  {
   "cell_type": "code",
   "execution_count": 16,
   "metadata": {},
   "outputs": [
    {
     "data": {
      "text/plain": [
       "<seaborn.axisgrid.FacetGrid at 0x7f9c9a729be0>"
      ]
     },
     "execution_count": 16,
     "metadata": {},
     "output_type": "execute_result"
    },
    {
     "data": {
      "image/png": "[encoded data removed]",
      "text/plain": [
       "<matplotlib.figure.Figure at 0x7f9bdcc3d0f0>"
      ]
     },
     "metadata": {},
     "output_type": "display_data"
    }
   ],
   "source": [
    "### Going back to my earlier monthly return plots, I see that it was biased by including young loans \n",
    "data['issue_m'] = data['issue_d'].apply(lambda x: int(x.month))\n",
    "sns.set(style=\"whitegrid\")\n",
    "\n",
    "g = sns.factorplot(x=\"grade\", y=\"netAnnualizedReturn\", hue=\"issue_m\", data=data,\n",
    "                   size=6, kind=\"bar\", palette=\"muted\")\n",
    "\n",
    "g.despine(left=True)\n",
    "g.set_ylabels(\"return\")"
   ]
  },
  {
   "cell_type": "code",
   "execution_count": 17,
   "metadata": {},
   "outputs": [
    {
     "data": {
      "text/plain": [
       "0.021235530514569584"
      ]
     },
     "execution_count": 17,
     "metadata": {},
     "output_type": "execute_result"
    }
   ],
   "source": [
    "### average return across all samples is 2.12%\n",
    "data['netAnnualizedReturn'].mean()"
   ]
  },
  {
   "cell_type": "code",
   "execution_count": 18,
   "metadata": {
    "scrolled": false
   },
   "outputs": [
    {
     "data": {
      "text/plain": [
       "issue_y\n",
       "2007    0.063288\n",
       "2008    0.051863\n",
       "2009    0.016058\n",
       "2010    0.012929\n",
       "2011    0.013890\n",
       "2012    0.022613\n",
       "2013    0.038531\n",
       "Name: netAnnualizedReturn, dtype: float64"
      ]
     },
     "execution_count": 18,
     "metadata": {},
     "output_type": "execute_result"
    }
   ],
   "source": [
    "### Here we see a very disjointed trend when assessing return by year.  The high return in 2007/08 I suspect is due to the \n",
    "### the fact that there has been enough time to recoup losses in defaulted loans\n",
    "data.groupby(['issue_y']).mean()['netAnnualizedReturn']"
   ]
  },
  {
   "cell_type": "code",
   "execution_count": 19,
   "metadata": {},
   "outputs": [
    {
     "data": {
      "text/plain": [
       "issue_y\n",
       "2007      603\n",
       "2008     2393\n",
       "2009     5281\n",
       "2010    12537\n",
       "2011    21721\n",
       "2012    53367\n",
       "2013     6872\n",
       "Name: id, dtype: int64"
      ]
     },
     "execution_count": 19,
     "metadata": {},
     "output_type": "execute_result"
    }
   ],
   "source": [
    "### The relatively low overall return surprised me in the face of much higher yearly averages.  It appears the data is \n",
    "### biased towards 2011/12 due to the high volume of loans in those years\n",
    "data.groupby(['issue_y']).count()['id']"
   ]
  },
  {
   "cell_type": "code",
   "execution_count": 21,
   "metadata": {},
   "outputs": [],
   "source": [
    "### The pertinent simplifying assumption made in the above analysis really hinges around only considering defaulted or \n",
    "### charged off loans as lost revenue.  In actuality, we should be negatively weighting late loans as well, or we could  \n",
    "### just look at the fully paid vs charged off loans, as they represent the only data points we can be sure of in terms  \n",
    "### of final return (excepting the above point on charged off losses being slightly negated through time).  However, we \n",
    "### would be throwing a lot of data by doing that, so I passed over it."
   ]
  },
  {
   "cell_type": "code",
   "execution_count": null,
   "metadata": {},
   "outputs": [],
   "source": []
  },
  {
   "cell_type": "code",
   "execution_count": 20,
   "metadata": {},
   "outputs": [],
   "source": [
    "### clean home_ownership\n",
    "def homeParser(x):\n",
    "    try:\n",
    "        val = 0\n",
    "        if any(check in x.lower() for check in ['own', 'mortgage']):\n",
    "            val = 1\n",
    "        return val\n",
    "    except:\n",
    "        return x\n",
    "data['home_ownership'] = data['home_ownership'].apply(lambda x: homeParser(x))\n",
    "### clean verification_status\n",
    "def verificationParser(x):\n",
    "    try:\n",
    "        if 'not' in x.lower():\n",
    "            return 0\n",
    "        else:\n",
    "            return 1 \n",
    "    except:\n",
    "        return x\n",
    "data['verification_status'] = data['verification_status'].apply(lambda x: verificationParser(x))\n",
    "### simplified employment.  0 if no valid data\n",
    "def empParser(x):\n",
    "    try:\n",
    "        if x == '10+ years':\n",
    "            return 10\n",
    "        else:\n",
    "            return int(x.split(' ')[0])\n",
    "    except:\n",
    "        return 0\n",
    "data['emp_length'] = data['emp_length'].apply(lambda x: empParser(x))\n",
    "def percentageParser(x):\n",
    "    try:\n",
    "        return float(x.replace('%', ''))\n",
    "    except:\n",
    "        return x\n",
    "data['int_rate'] = data['int_rate'].apply(lambda x: percentageParser(x))\n",
    "data['revol_util'] = data['revol_util'].apply(lambda x: percentageParser(x))"
   ]
  },
  {
   "cell_type": "code",
   "execution_count": 21,
   "metadata": {
    "scrolled": true
   },
   "outputs": [],
   "source": [
    "# ### made a list of linear variables that would be available at time of issuance for new loans \n",
    "potentialVariables = \"\"\"open_acc_6m\n",
    "home_ownership\n",
    "verification_status\n",
    "open_il_6m\n",
    "open_il_12m\n",
    "open_il_24m\n",
    "mths_since_rcnt_il\n",
    "total_bal_il\n",
    "il_util\n",
    "open_rv_12m\n",
    "open_rv_24m\n",
    "max_bal_bc\n",
    "all_util\n",
    "inq_fi\n",
    "total_cu_tl\n",
    "inq_last_12m\n",
    "acc_now_delinq\n",
    "tot_coll_amt\n",
    "tot_cur_bal\n",
    "total_acc\n",
    "revol_bal\n",
    "revol_util\n",
    "pub_rec\n",
    "open_acc\n",
    "mths_since_last_delinq\n",
    "mths_since_last_major_derog\n",
    "loan_amnt\n",
    "int_rate\n",
    "installment\n",
    "home_ownership\n",
    "funded_amnt_inv\n",
    "emp_length\n",
    "dti\n",
    "dti_joint\n",
    "collections_12_mths_ex_med\n",
    "delinq_2yrs\n",
    "annual_inc\"\"\"\n",
    "potentialVariables = potentialVariables.split('\\n')"
   ]
  },
  {
   "cell_type": "code",
   "execution_count": 22,
   "metadata": {
    "scrolled": true
   },
   "outputs": [
    {
     "name": "stdout",
     "output_type": "stream",
     "text": [
      "open_acc_6m\n",
      "home_ownership\n",
      "verification_status\n",
      "open_il_6m\n",
      "open_il_12m\n",
      "open_il_24m\n",
      "mths_since_rcnt_il\n",
      "total_bal_il\n",
      "il_util\n",
      "open_rv_12m\n",
      "open_rv_24m\n",
      "max_bal_bc\n",
      "all_util\n",
      "inq_fi\n",
      "total_cu_tl\n",
      "inq_last_12m\n",
      "acc_now_delinq\n",
      "tot_coll_amt\n",
      "tot_cur_bal\n",
      "total_acc\n",
      "revol_bal\n",
      "revol_util\n",
      "pub_rec\n",
      "open_acc\n",
      "mths_since_last_delinq\n",
      "mths_since_last_major_derog\n",
      "loan_amnt\n",
      "int_rate\n",
      "installment\n",
      "home_ownership\n",
      "funded_amnt_inv\n",
      "emp_length\n",
      "dti\n",
      "dti_joint\n",
      "collections_12_mths_ex_med\n",
      "delinq_2yrs\n",
      "annual_inc\n"
     ]
    }
   ],
   "source": [
    "### making sure all fields are cleaned and mean deviated \n",
    "for i in potentialVariables:\n",
    "    print(i)\n",
    "    data[i] = data[i].astype(float)\n",
    "    data[i + '_deviated'] = (data[i] - data[i].mean()) / data[i].std()"
   ]
  },
  {
   "cell_type": "code",
   "execution_count": 23,
   "metadata": {},
   "outputs": [],
   "source": [
    "### first, I want to look at the quality of each field.  Specifically, any field with > 10% missing data, I assume\n",
    "### is a poor source of information for a first pass at training a model\n",
    "descriptions = data.describe()\n",
    "blank = []\n",
    "for i in descriptions.columns:\n",
    "    blank.append([i, descriptions[i]['count'] / len(data)])\n",
    "portion = pd.DataFrame(blank).sort_values(1)\n",
    "for i in portion[portion[1] < .9][0].unique():\n",
    "    data = data.drop(i, axis = 1)"
   ]
  },
  {
   "cell_type": "code",
   "execution_count": 24,
   "metadata": {},
   "outputs": [],
   "source": [
    "potentialVariables = [x for x in potentialVariables if x in data.columns]"
   ]
  },
  {
   "cell_type": "code",
   "execution_count": 25,
   "metadata": {},
   "outputs": [],
   "source": [
    "### ExtraTreesClassifier used to determine variable importance on whether a loan defaults.  Quick and easy way to pull \n",
    "### out important variables for modeling \n",
    "\n",
    "### clean loan status.  Will be using this metric as a binary outcome to optimize towards\n",
    "data['loan_status'].unique()\n",
    "def loanCleaner(x):\n",
    "    val = 0\n",
    "    if any(check in x.lower() for check in ['paid', 'current', 'grace']):\n",
    "        val = 1\n",
    "    elif any(check in x.lower() for check in ['grace', 'issued']):\n",
    "        val = -1\n",
    "    return val\n",
    "data['loan_standing'] = data['loan_status'].apply(lambda x: loanCleaner(x))\n",
    "data = data[data.loan_standing >= 0]\n",
    "\n",
    "### remove rows with any missing data we are about to test\n",
    "potentialVariables = [x for x in data.columns if '_deviated' in x]\n",
    "potentialVariables.append('loan_standing')"
   ]
  },
  {
   "cell_type": "code",
   "execution_count": 26,
   "metadata": {},
   "outputs": [],
   "source": [
    "temp = data[potentialVariables].dropna()\n",
    "target = temp[['loan_standing']]\n",
    "temp = temp.drop('loan_standing', axis = 1)\n",
    "potentialVariables = [x for x in potentialVariables if x != 'loan_standing']"
   ]
  },
  {
   "cell_type": "code",
   "execution_count": 27,
   "metadata": {
    "scrolled": true
   },
   "outputs": [
    {
     "name": "stdout",
     "output_type": "stream",
     "text": [
      "Feature ranking:\n",
      "int_rate_deviated\n",
      "1. feature 9 (0.110140)\n",
      "revol_util_deviated\n",
      "2. feature 5 (0.090754)\n",
      "dti_deviated\n",
      "3. feature 13 (0.089888)\n",
      "annual_inc_deviated\n",
      "4. feature 16 (0.089664)\n",
      "revol_bal_deviated\n",
      "5. feature 4 (0.089281)\n",
      "total_acc_deviated\n",
      "6. feature 3 (0.085139)\n",
      "installment_deviated\n",
      "7. feature 10 (0.084568)\n",
      "funded_amnt_inv_deviated\n",
      "8. feature 11 (0.081538)\n",
      "open_acc_deviated\n",
      "9. feature 7 (0.081531)\n",
      "loan_amnt_deviated\n",
      "10. feature 8 (0.074737)\n",
      "emp_length_deviated\n",
      "11. feature 12 (0.066541)\n",
      "delinq_2yrs_deviated\n",
      "12. feature 15 (0.026540)\n",
      "pub_rec_deviated\n",
      "13. feature 6 (0.011374)\n",
      "home_ownership_deviated\n",
      "14. feature 0 (0.008979)\n",
      "verification_status_deviated\n",
      "15. feature 1 (0.008943)\n",
      "collections_12_mths_ex_med_deviated\n",
      "16. feature 14 (0.000195)\n",
      "acc_now_delinq_deviated\n",
      "17. feature 2 (0.000188)\n"
     ]
    },
    {
     "data": {
      "text/plain": [
       "<matplotlib.figure.Figure at 0x7f9bd7b769e8>"
      ]
     },
     "metadata": {},
     "output_type": "display_data"
    },
    {
     "data": {
      "text/plain": [
       "<matplotlib.figure.Figure at 0x7f9b6e06d940>"
      ]
     },
     "metadata": {},
     "output_type": "display_data"
    },
    {
     "data": {
      "text/plain": [
       "<matplotlib.figure.Figure at 0x7f9b6e06df98>"
      ]
     },
     "metadata": {},
     "output_type": "display_data"
    },
    {
     "data": {
      "text/plain": [
       "<matplotlib.figure.Figure at 0x7f9b6e07d5c0>"
      ]
     },
     "metadata": {},
     "output_type": "display_data"
    },
    {
     "data": {
      "text/plain": [
       "<matplotlib.figure.Figure at 0x7f9b6e07dc18>"
      ]
     },
     "metadata": {},
     "output_type": "display_data"
    },
    {
     "data": {
      "text/plain": [
       "<matplotlib.figure.Figure at 0x7f9b6e07dbe0>"
      ]
     },
     "metadata": {},
     "output_type": "display_data"
    },
    {
     "data": {
      "text/plain": [
       "<matplotlib.figure.Figure at 0x7f9b6e084748>"
      ]
     },
     "metadata": {},
     "output_type": "display_data"
    },
    {
     "data": {
      "text/plain": [
       "<matplotlib.figure.Figure at 0x7f9b6e084d68>"
      ]
     },
     "metadata": {},
     "output_type": "display_data"
    },
    {
     "data": {
      "text/plain": [
       "<matplotlib.figure.Figure at 0x7f9b6e00c4a8>"
      ]
     },
     "metadata": {},
     "output_type": "display_data"
    },
    {
     "data": {
      "text/plain": [
       "<matplotlib.figure.Figure at 0x7f9b6e00cba8>"
      ]
     },
     "metadata": {},
     "output_type": "display_data"
    },
    {
     "data": {
      "text/plain": [
       "<matplotlib.figure.Figure at 0x7f9b6e0132e8>"
      ]
     },
     "metadata": {},
     "output_type": "display_data"
    },
    {
     "data": {
      "text/plain": [
       "<matplotlib.figure.Figure at 0x7f9b6e0139e8>"
      ]
     },
     "metadata": {},
     "output_type": "display_data"
    },
    {
     "data": {
      "text/plain": [
       "<matplotlib.figure.Figure at 0x7f9b6e01b128>"
      ]
     },
     "metadata": {},
     "output_type": "display_data"
    },
    {
     "data": {
      "text/plain": [
       "<matplotlib.figure.Figure at 0x7f9b6e01b828>"
      ]
     },
     "metadata": {},
     "output_type": "display_data"
    },
    {
     "data": {
      "text/plain": [
       "<matplotlib.figure.Figure at 0x7f9b6e01bf28>"
      ]
     },
     "metadata": {},
     "output_type": "display_data"
    },
    {
     "data": {
      "text/plain": [
       "<matplotlib.figure.Figure at 0x7f9b6e021668>"
      ]
     },
     "metadata": {},
     "output_type": "display_data"
    },
    {
     "data": {
      "image/png": "[encoded data removed]",
      "text/plain": [
       "<matplotlib.figure.Figure at 0x7f9b6e06d278>"
      ]
     },
     "metadata": {},
     "output_type": "display_data"
    }
   ],
   "source": [
    "### rough assessment of field importance on defaulting \n",
    "import matplotlib.pyplot as plt\n",
    "\n",
    "from sklearn.datasets import make_classification\n",
    "from sklearn.ensemble import ExtraTreesClassifier\n",
    "\n",
    "forest = ExtraTreesClassifier(n_estimators=100,\n",
    "                              random_state=1)\n",
    "\n",
    "forest.fit(temp[potentialVariables], target['loan_standing'])\n",
    "importances = forest.feature_importances_\n",
    "std = np.std([tree.feature_importances_ for tree in forest.estimators_],\n",
    "             axis=0)\n",
    "\n",
    "indices = np.argsort(importances)[::-1]\n",
    "realNames = []\n",
    "for i in indices:\n",
    "    realNames.append(temp[potentialVariables].columns[i])\n",
    "print(\"Feature ranking:\")\n",
    "weights = {}\n",
    "for f in range(temp[potentialVariables].shape[1]):\n",
    "    print(potentialVariables[indices[f]])\n",
    "    print(\"%d. feature %d (%f)\" % (f + 1, indices[f], importances[indices[f]]))\n",
    "    weights[potentialVariables[indices[f]]] = importances[indices[f]]\n",
    "    plt.figure()\n",
    "plt.title(\"Feature importances\")\n",
    "plt.bar(range(temp[potentialVariables].shape[1]), importances[indices],\n",
    "       color=\"r\", yerr=std[indices], align=\"center\")\n",
    "plt.xticks(range(temp[potentialVariables].shape[1]), realNames, rotation=70)\n",
    "plt.xlim([-1, temp[potentialVariables].shape[1]])\n",
    "plt.show()"
   ]
  },
  {
   "cell_type": "code",
   "execution_count": 28,
   "metadata": {
    "scrolled": true
   },
   "outputs": [],
   "source": [
    "### will be using variables that can account for > 5% of the variability in loan status\n",
    "strongVariables = []\n",
    "for i in weights.keys():\n",
    "    if weights[i] > .05:\n",
    "        strongVariables.append(i)"
   ]
  },
  {
   "cell_type": "code",
   "execution_count": 29,
   "metadata": {},
   "outputs": [],
   "source": [
    "strongVariables_ = strongVariables.copy()\n",
    "strongVariables_.append('netAnnualizedReturn')\n",
    "strongVariables_.append('id')"
   ]
  },
  {
   "cell_type": "code",
   "execution_count": 30,
   "metadata": {},
   "outputs": [
    {
     "name": "stdout",
     "output_type": "stream",
     "text": [
      "Coefficients: \n",
      " [-0.005685    0.00351585 -0.00443249  0.00776817 -0.0032032   0.0044419\n",
      "  0.01908513 -0.01811636  0.00133311  0.00366365  0.00218712]\n",
      "Mean squared error: 0.04\n",
      "Variance score: 0.00\n"
     ]
    }
   ],
   "source": [
    "### I will first attempt a linear regression.  I chose this model for a first pass because it is incredibly easy to \n",
    "### implement, and we might be able to find some low hanging fruit with it.  If the problem is not linearly solvable, \n",
    "### this approach will be insufficient.\n",
    "\n",
    "from sklearn import linear_model\n",
    "from sklearn.metrics import mean_squared_error, r2_score\n",
    "\n",
    "toTest = data[strongVariables_].dropna()\n",
    "# Split the data into training/testing sets\n",
    "data_train = toTest.sample(frac=0.7)\n",
    "data_test = toTest[~toTest.id.isin(data_train.id.unique())]\n",
    "\n",
    "target_train = data_train['netAnnualizedReturn']\n",
    "target_test = data_test['netAnnualizedReturn']\n",
    "\n",
    "regr = linear_model.LinearRegression()\n",
    "\n",
    "regr.fit(data_train[strongVariables], target_train)\n",
    "\n",
    "data_y_pred = regr.predict(data_test[strongVariables])\n",
    "\n",
    "# The coefficients\n",
    "print('Coefficients: \\n', regr.coef_)\n",
    "# The mean squared error\n",
    "print(\"Mean squared error: %.2f\"\n",
    "      % mean_squared_error(target_test, data_y_pred))\n",
    "# Explained variance score: 1 is perfect prediction\n",
    "print('Variance score: %.2f' % r2_score(target_test, data_y_pred))"
   ]
  },
  {
   "cell_type": "code",
   "execution_count": null,
   "metadata": {},
   "outputs": [],
   "source": [
    "### to validate the model, rSquared was used.  And boy does this model not work out.  "
   ]
  },
  {
   "cell_type": "code",
   "execution_count": 31,
   "metadata": {
    "scrolled": true
   },
   "outputs": [],
   "source": [
    "toPlot = pd.DataFrame(target_test)\n",
    "toPlot['predicted'] = data_y_pred\n",
    "toPlot = toPlot.sort_values('netAnnualizedReturn').reset_index(drop = True)"
   ]
  },
  {
   "cell_type": "code",
   "execution_count": 32,
   "metadata": {},
   "outputs": [
    {
     "data": {
      "image/png": "[encoded data removed]",
      "text/plain": [
       "<matplotlib.figure.Figure at 0x7f9bd9c3b940>"
      ]
     },
     "metadata": {},
     "output_type": "display_data"
    }
   ],
   "source": [
    "# Plot outputs\n",
    "plt.scatter(toPlot['predicted'], toPlot['netAnnualizedReturn'], color='blue')\n",
    "plt.show()"
   ]
  },
  {
   "cell_type": "code",
   "execution_count": 36,
   "metadata": {},
   "outputs": [
    {
     "data": {
      "text/plain": [
       "(0.022561927919341234, 0.12361942788901503)"
      ]
     },
     "execution_count": 36,
     "metadata": {},
     "output_type": "execute_result"
    }
   ],
   "source": [
    "### The vast majority of predictions seem to have no relation to actual outcome.  However, above a prediction of a 10%\n",
    "### return, we see that actual return averages 5.4 times greater than the overall average\n",
    "toPlot.netAnnualizedReturn.mean(), toPlot[toPlot.predicted > .1].netAnnualizedReturn.mean()"
   ]
  },
  {
   "cell_type": "code",
   "execution_count": 33,
   "metadata": {
    "scrolled": true
   },
   "outputs": [
    {
     "data": {
      "text/plain": [
       "count    30791.000000\n",
       "mean         0.020779\n",
       "std          0.015080\n",
       "min         -0.195598\n",
       "25%          0.011437\n",
       "50%          0.019265\n",
       "75%          0.028109\n",
       "max          0.953080\n",
       "Name: predicted, dtype: float64"
      ]
     },
     "execution_count": 33,
     "metadata": {},
     "output_type": "execute_result"
    }
   ],
   "source": [
    "toPlot['predicted'].describe()\n",
    "### this model is trash.  It's predicting 50% of the data between a return of 1.1% and 2.8%. It's pretty much \n",
    "### predicting the mean for most loans"
   ]
  },
  {
   "cell_type": "code",
   "execution_count": 38,
   "metadata": {},
   "outputs": [
    {
     "data": {
      "image/png": "[encoded data removed]",
      "text/plain": [
       "<matplotlib.figure.Figure at 0x7f9b45c914e0>"
      ]
     },
     "metadata": {},
     "output_type": "display_data"
    }
   ],
   "source": [
    "### looking at the spread of returns, it looks like our losses are concentrated to a relatively small portion of the \n",
    "### total loans.  While return is a linear variable, I'm thinking we can reframe the problem as a issue of classification.\n",
    "### If we can build a model that instead outputs a probability of defaulting, we can cut out a lot of our losses without\n",
    "### trying to project actual return.  Since we suspect the problem is nonlinear, I will use SVM for the classification \n",
    "toPlot['cummulative'] = toPlot['netAnnualizedReturn'].cumsum()\n",
    "plt.plot(toPlot['cummulative'], color='blue')\n",
    "plt.show()"
   ]
  },
  {
   "cell_type": "code",
   "execution_count": 39,
   "metadata": {},
   "outputs": [],
   "source": [
    "from sklearn.decomposition import PCA\n",
    "from sklearn.preprocessing import normalize"
   ]
  },
  {
   "cell_type": "code",
   "execution_count": 152,
   "metadata": {
    "scrolled": true
   },
   "outputs": [],
   "source": [
    "strongVariables_ = strongVariables.copy()\n",
    "strongVariables_.append('loan_standing')\n",
    "strongVariables_.append('id')\n",
    "\n",
    "toTest = data[strongVariables_].dropna()\n",
    "\n",
    "data_train = toTest.sample(frac=0.7)\n",
    "data_test = toTest[~toTest.id.isin(data_train.id.unique())]\n",
    "ids = data_test['id']\n",
    "\n",
    "target_train = data_train['loan_standing']\n",
    "target_test = data_test['loan_standing']\n",
    "\n",
    "data_train = data_train[strongVariables]\n",
    "data_test = data_test[strongVariables]\n",
    "\n",
    "pca = PCA()\n",
    "pca.fit(data_train)\n",
    "data_train = pca.transform(data_train)\n",
    "data_test = pca.transform(data_test)\n",
    "\n",
    "from sklearn.svm import SVC\n",
    "svm = SVC(C=1.0, kernel='rbf', gamma='auto')\n",
    "svm.fit(data_train, target_train.values)"
   ]
  },
  {
   "cell_type": "code",
   "execution_count": 157,
   "metadata": {
    "scrolled": true
   },
   "outputs": [],
   "source": [
    "predictions = svm.predict(data_test)\n",
    "toPlot = pd.DataFrame(target_test)\n",
    "toPlot['predicted'] = predictions\n",
    "toPlot['id'] = ids.values\n",
    "toPlot = toPlot.sort_values('predicted').reset_index(drop = True)\n",
    "toPlot = pd.merge(toPlot, data[['id', 'netAnnualizedReturn']], on = 'id', how = 'left')"
   ]
  },
  {
   "cell_type": "code",
   "execution_count": 160,
   "metadata": {},
   "outputs": [
    {
     "data": {
      "text/plain": [
       "count    30791.0\n",
       "mean         1.0\n",
       "std          0.0\n",
       "min          1.0\n",
       "25%          1.0\n",
       "50%          1.0\n",
       "75%          1.0\n",
       "max          1.0\n",
       "Name: predicted, dtype: float64"
      ]
     },
     "execution_count": 160,
     "metadata": {},
     "output_type": "execute_result"
    }
   ],
   "source": [
    "toPlot['predicted'].describe()"
   ]
  },
  {
   "cell_type": "code",
   "execution_count": 161,
   "metadata": {},
   "outputs": [],
   "source": [
    "### As I was worried with a lopsided dataset, SVM optimized to the mean.  Potentially could salvage the SVM by returning \n",
    "### the distance from the seperating hyperplane (SVR) and coming up with a bespoke cutoff to seperate the pofitable and\n",
    "### defaulted loans"
   ]
  },
  {
   "cell_type": "code",
   "execution_count": 40,
   "metadata": {},
   "outputs": [
    {
     "data": {
      "text/plain": [
       "SVR(C=1.0, cache_size=200, coef0=0.0, degree=3, epsilon=0.1, gamma='auto',\n",
       "  kernel='rbf', max_iter=-1, shrinking=True, tol=0.001, verbose=False)"
      ]
     },
     "execution_count": 40,
     "metadata": {},
     "output_type": "execute_result"
    }
   ],
   "source": [
    "strongVariables_ = strongVariables.copy()\n",
    "strongVariables_.append('loan_standing')\n",
    "strongVariables_.append('id')\n",
    "\n",
    "toTest = data[strongVariables_].dropna()\n",
    "\n",
    "data_train = toTest.sample(frac=0.7)\n",
    "data_test = toTest[~toTest.id.isin(data_train.id.unique())]\n",
    "ids = data_test['id']\n",
    "\n",
    "target_train = data_train['loan_standing']\n",
    "target_test = data_test['loan_standing']\n",
    "\n",
    "data_train = data_train[strongVariables]\n",
    "data_test = data_test[strongVariables]\n",
    "\n",
    "pca = PCA()\n",
    "pca.fit(data_train)\n",
    "data_train = pca.transform(data_train)\n",
    "data_test = pca.transform(data_test)\n",
    "\n",
    "from sklearn.svm import SVR\n",
    "svm = SVR(C=1.0, kernel='rbf', gamma='auto')\n",
    "svm.fit(data_train, target_train.values)"
   ]
  },
  {
   "cell_type": "code",
   "execution_count": 41,
   "metadata": {},
   "outputs": [
    {
     "data": {
      "text/plain": [
       "count    30791.000000\n",
       "mean         0.900053\n",
       "std          0.014450\n",
       "min          0.151401\n",
       "25%          0.899884\n",
       "50%          0.900134\n",
       "75%          0.900680\n",
       "max          1.192513\n",
       "Name: predicted, dtype: float64"
      ]
     },
     "execution_count": 41,
     "metadata": {},
     "output_type": "execute_result"
    }
   ],
   "source": [
    "predictions = svm.predict(data_test)\n",
    "toPlot = pd.DataFrame(target_test)\n",
    "toPlot['predicted'] = predictions\n",
    "toPlot['id'] = ids.values\n",
    "toPlot = toPlot.sort_values('predicted').reset_index(drop = True)\n",
    "toPlot = pd.merge(toPlot, data[['id', 'netAnnualizedReturn']], on = 'id', how = 'left')\n",
    "toPlot['predicted'].describe()"
   ]
  },
  {
   "cell_type": "code",
   "execution_count": 54,
   "metadata": {},
   "outputs": [
    {
     "data": {
      "image/png": "[encoded data removed]",
      "text/plain": [
       "<matplotlib.figure.Figure at 0x7f9b534a09b0>"
      ]
     },
     "metadata": {},
     "output_type": "display_data"
    }
   ],
   "source": [
    "toPlot = toPlot.sort_values('predicted').reset_index(drop = True)\n",
    "toPlot['cumulativeReturn'] = toPlot['netAnnualizedReturn'].cumsum()\n",
    "plt.plot(toPlot.cumulativeReturn)\n",
    "plt.title('SVR on default risk and return')\n",
    "plt.show()"
   ]
  },
  {
   "cell_type": "code",
   "execution_count": 56,
   "metadata": {},
   "outputs": [
    {
     "name": "stderr",
     "output_type": "stream",
     "text": [
      "/home/jrmccrery/anaconda3/lib/python3.6/site-packages/ipykernel_launcher.py:1: DeprecationWarning: \n",
      ".ix is deprecated. Please use\n",
      ".loc for label based indexing or\n",
      ".iloc for positional indexing\n",
      "\n",
      "See the documentation here:\n",
      "http://pandas.pydata.org/pandas-docs/stable/indexing.html#ix-indexer-is-deprecated\n",
      "  \"\"\"Entry point for launching an IPython kernel.\n"
     ]
    },
    {
     "data": {
      "text/plain": [
       "loan_standing                 1\n",
       "predicted              0.899741\n",
       "id                      3156482\n",
       "netAnnualizedReturn    0.104309\n",
       "cumulativeReturn        36.7342\n",
       "Name: 5000, dtype: object"
      ]
     },
     "execution_count": 56,
     "metadata": {},
     "output_type": "execute_result"
    }
   ],
   "source": [
    "toPlot.ix[5000, :]"
   ]
  },
  {
   "cell_type": "code",
   "execution_count": 61,
   "metadata": {
    "scrolled": true
   },
   "outputs": [
    {
     "data": {
      "text/plain": [
       "loan_standing           0.764353\n",
       "predicted               0.892208\n",
       "id                           inf\n",
       "netAnnualizedReturn     0.007313\n",
       "cumulativeReturn       23.740803\n",
       "dtype: float64"
      ]
     },
     "execution_count": 61,
     "metadata": {},
     "output_type": "execute_result"
    }
   ],
   "source": [
    "### Success!  The 5000 loans with the highest predicted probability of defaulting showed an almost flat return. \n",
    "toPlot[toPlot.predicted <= .899741].mean()"
   ]
  },
  {
   "cell_type": "code",
   "execution_count": 63,
   "metadata": {},
   "outputs": [
    {
     "data": {
      "text/plain": [
       "loan_standing            0.862671\n",
       "predicted                0.901573\n",
       "id                            inf\n",
       "netAnnualizedReturn      0.023158\n",
       "cumulativeReturn       302.776198\n",
       "dtype: float64"
      ]
     },
     "execution_count": 63,
     "metadata": {},
     "output_type": "execute_result"
    }
   ],
   "source": [
    "### where all loans above that cutoff are above the average return\n",
    "toPlot[toPlot.predicted > .899741].mean()"
   ]
  },
  {
   "cell_type": "code",
   "execution_count": null,
   "metadata": {},
   "outputs": [],
   "source": [
    "### Future steps would definitely include exerpimenting with the \n",
    "### kernel, and a grid search for better svm parameters. For example... \n",
    "plt.figure(figsize=(8, 6))\n",
    "xx, yy = np.meshgrid(np.linspace(-3, 3, 200), np.linspace(-3, 3, 200))\n",
    "for (k, (C, gamma, clf)) in enumerate(classifiers):\n",
    "    # evaluate decision function in a grid\n",
    "    Z = clf.decision_function(np.c_[xx.ravel(), yy.ravel()])\n",
    "    Z = Z.reshape(xx.shape)\n",
    "\n",
    "    # visualize decision function for these parameters\n",
    "    plt.subplot(len(C_2d_range), len(gamma_2d_range), k + 1)\n",
    "    plt.title(\"gamma=10^%d, C=10^%d\" % (np.log10(gamma), np.log10(C)),\n",
    "              size='medium')\n",
    "\n",
    "    # visualize parameter's effect on decision function\n",
    "    plt.pcolormesh(xx, yy, -Z, cmap=plt.cm.RdBu)\n",
    "    plt.scatter(X_2d[:, 0], X_2d[:, 1], c=y_2d, cmap=plt.cm.RdBu_r,\n",
    "                edgecolors='k')\n",
    "    plt.xticks(())\n",
    "    plt.yticks(())\n",
    "    plt.axis('tight')\n",
    "\n",
    "scores = grid.cv_results_['mean_test_score'].reshape(len(C_range),\n",
    "                                                     len(gamma_range))\n",
    "### if we had enough rows to train a SVM on, we could increase accuracy by clustering the data with k-means after the \n",
    "### PCA and before the SVM, but with the test set we have, it would break the problem down into too small of chucks\n",
    "### for a hyperplane to find a solution within a reasonable amount of time, if at all"
   ]
  },
  {
   "cell_type": "code",
   "execution_count": null,
   "metadata": {},
   "outputs": [],
   "source": [
    "### By turning this into a classification problem, we will be able to introduce robust metrics for assessing improvements\n",
    "### over baseline, such as G-mean and ROC curves.  I highly doubt that this problem will be solved well by linear models,\n",
    "### so suggest further testing with non linear models, like SVM.  Also, we should go back to the categorical variables for \n",
    "### dummy coding so they could be put into these models as well"
   ]
  }
 ],
 "metadata": {
  "kernelspec": {
   "display_name": "Python 3",
   "language": "python",
   "name": "python3"
  },
  "language_info": {
   "codemirror_mode": {
    "name": "ipython",
    "version": 3
   },
   "file_extension": ".py",
   "mimetype": "text/x-python",
   "name": "python",
   "nbconvert_exporter": "python",
   "pygments_lexer": "ipython3",
   "version": "3.6.4"
  }
 },
 "nbformat": 4,
 "nbformat_minor": 2
}
